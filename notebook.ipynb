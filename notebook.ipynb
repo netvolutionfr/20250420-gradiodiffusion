{
 "cells": [
  {
   "cell_type": "code",
   "execution_count": null,
   "id": "d686a32a6e32087d",
   "metadata": {},
   "outputs": [],
   "source": [
    "# 🔧 1. Installer les bibliothèques nécessaires\n",
    "!pip install diffusers transformers accelerate gradio --quiet"
   ]
  },
  {
   "metadata": {},
   "cell_type": "code",
   "outputs": [],
   "execution_count": null,
   "source": [
    "import torch\n",
    "print(\"CUDA disponible :\", torch.cuda.is_available())\n",
    "if torch.cuda.is_available():\n",
    "    print(\"GPU utilisé :\", torch.cuda.get_device_name(0))\n",
    "else:\n",
    "    print(\"⚠️ Aucun GPU détecté. L'exécution se fera sur le CPU.\")"
   ],
   "id": "97ff8bba9c60f70b"
  },
  {
   "metadata": {},
   "cell_type": "code",
   "outputs": [],
   "execution_count": null,
   "source": [
    "# 🔥 2. Charger le modèle (float32 pour compatibilité maximale)\n",
    "from diffusers import StableDiffusionPipeline\n",
    "import torch\n",
    "\n",
    "device = \"cuda\" if torch.cuda.is_available() else \"cpu\"\n",
    "print(\"💻 Appareil utilisé :\", device)\n",
    "\n",
    "pipe = StableDiffusionPipeline.from_pretrained(\n",
    "    \"CompVis/stable-diffusion-v1-4\",\n",
    "    torch_dtype=torch.float32  # Utilisation de float32 pour compatibilité maximale\n",
    ")\n",
    "pipe.to(device)"
   ],
   "id": "dd4e799883d2da0f"
  },
  {
   "metadata": {
    "collapsed": true
   },
   "cell_type": "code",
   "outputs": [],
   "execution_count": null,
   "source": [
    "# 🎨 3. Créer l'interface Gradio\n",
    "import gradio as gr\n",
    "\n",
    "def generate(prompt):\n",
    "    image = pipe(prompt).images[0]\n",
    "    return image\n",
    "\n",
    "gr.Interface(\n",
    "    fn=generate,\n",
    "    inputs=gr.Textbox(label=\"Prompt (ex: 'A futuristic cyberpunk city at night')\"),\n",
    "    outputs=gr.Image(type=\"pil\"),\n",
    "    title=\"Stable Diffusion v1.4 (Google Colab GPU)\"\n",
    ").launch(share=True)"
   ],
   "id": "initial_id"
  }
 ],
 "metadata": {
  "kernelspec": {
   "display_name": "Python 3",
   "language": "python",
   "name": "python3"
  },
  "language_info": {
   "codemirror_mode": {
    "name": "ipython",
    "version": 2
   },
   "file_extension": ".py",
   "mimetype": "text/x-python",
   "name": "python",
   "nbconvert_exporter": "python",
   "pygments_lexer": "ipython2",
   "version": "2.7.6"
  }
 },
 "nbformat": 4,
 "nbformat_minor": 5
}
